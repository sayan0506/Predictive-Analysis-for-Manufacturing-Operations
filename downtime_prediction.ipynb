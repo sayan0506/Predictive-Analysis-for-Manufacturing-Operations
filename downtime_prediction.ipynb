{
 "cells": [
  {
   "cell_type": "markdown",
   "metadata": {},
   "source": [
    "#### **Import Dependencies**"
   ]
  },
  {
   "cell_type": "code",
   "execution_count": 129,
   "metadata": {},
   "outputs": [],
   "source": [
    "import pandas as pd\n",
    "import numpy as np\n",
    "import matplotlib.pyplot as plt\n",
    "import scipy\n",
    "from sklearn.linear_model import LogisticRegression\n",
    "from sklearn.ensemble import RandomForestClassifier\n",
    "from sklearn.preprocessing import LabelEncoder, MinMaxScaler\n",
    "from sklearn.model_selection import train_test_split\n",
    "from sklearn.tree import DecisionTreeClassifier\n",
    "from sklearn.metrics import accuracy_score, confusion_matrix, classification_report"
   ]
  },
  {
   "cell_type": "markdown",
   "metadata": {},
   "source": [
    "#### **Read Dataset**"
   ]
  },
  {
   "cell_type": "code",
   "execution_count": 153,
   "metadata": {},
   "outputs": [
    {
     "data": {
      "text/html": [
       "<div>\n",
       "<style scoped>\n",
       "    .dataframe tbody tr th:only-of-type {\n",
       "        vertical-align: middle;\n",
       "    }\n",
       "\n",
       "    .dataframe tbody tr th {\n",
       "        vertical-align: top;\n",
       "    }\n",
       "\n",
       "    .dataframe thead th {\n",
       "        text-align: right;\n",
       "    }\n",
       "</style>\n",
       "<table border=\"1\" class=\"dataframe\">\n",
       "  <thead>\n",
       "    <tr style=\"text-align: right;\">\n",
       "      <th></th>\n",
       "      <th>Date</th>\n",
       "      <th>Machine_ID</th>\n",
       "      <th>Assembly_Line_No</th>\n",
       "      <th>Hydraulic_Pressure(bar)</th>\n",
       "      <th>Coolant_Pressure(bar)</th>\n",
       "      <th>Air_System_Pressure(bar)</th>\n",
       "      <th>Coolant_Temperature</th>\n",
       "      <th>Hydraulic_Oil_Temperature(?C)</th>\n",
       "      <th>Spindle_Bearing_Temperature(?C)</th>\n",
       "      <th>Spindle_Vibration(?m)</th>\n",
       "      <th>Tool_Vibration(?m)</th>\n",
       "      <th>Spindle_Speed(RPM)</th>\n",
       "      <th>Voltage(volts)</th>\n",
       "      <th>Torque(Nm)</th>\n",
       "      <th>Cutting(kN)</th>\n",
       "      <th>Downtime</th>\n",
       "    </tr>\n",
       "  </thead>\n",
       "  <tbody>\n",
       "    <tr>\n",
       "      <th>0</th>\n",
       "      <td>31-12-2021</td>\n",
       "      <td>Makino-L1-Unit1-2013</td>\n",
       "      <td>Shopfloor-L1</td>\n",
       "      <td>71.040000</td>\n",
       "      <td>6.933725</td>\n",
       "      <td>6.284965</td>\n",
       "      <td>25.6</td>\n",
       "      <td>46.0</td>\n",
       "      <td>33.4</td>\n",
       "      <td>1.291</td>\n",
       "      <td>26.492</td>\n",
       "      <td>25892.0</td>\n",
       "      <td>335.0</td>\n",
       "      <td>24.055326</td>\n",
       "      <td>3.58</td>\n",
       "      <td>Machine_Failure</td>\n",
       "    </tr>\n",
       "    <tr>\n",
       "      <th>1</th>\n",
       "      <td>31-12-2021</td>\n",
       "      <td>Makino-L1-Unit1-2013</td>\n",
       "      <td>Shopfloor-L1</td>\n",
       "      <td>125.330000</td>\n",
       "      <td>4.936892</td>\n",
       "      <td>6.196733</td>\n",
       "      <td>35.3</td>\n",
       "      <td>47.4</td>\n",
       "      <td>34.6</td>\n",
       "      <td>1.382</td>\n",
       "      <td>25.274</td>\n",
       "      <td>19856.0</td>\n",
       "      <td>368.0</td>\n",
       "      <td>14.202890</td>\n",
       "      <td>2.68</td>\n",
       "      <td>Machine_Failure</td>\n",
       "    </tr>\n",
       "    <tr>\n",
       "      <th>2</th>\n",
       "      <td>31-12-2021</td>\n",
       "      <td>Makino-L3-Unit1-2015</td>\n",
       "      <td>Shopfloor-L3</td>\n",
       "      <td>71.120000</td>\n",
       "      <td>6.839413</td>\n",
       "      <td>6.655448</td>\n",
       "      <td>13.1</td>\n",
       "      <td>40.7</td>\n",
       "      <td>33.0</td>\n",
       "      <td>1.319</td>\n",
       "      <td>30.608</td>\n",
       "      <td>19851.0</td>\n",
       "      <td>325.0</td>\n",
       "      <td>24.049267</td>\n",
       "      <td>3.55</td>\n",
       "      <td>Machine_Failure</td>\n",
       "    </tr>\n",
       "    <tr>\n",
       "      <th>3</th>\n",
       "      <td>31-05-2022</td>\n",
       "      <td>Makino-L2-Unit1-2015</td>\n",
       "      <td>Shopfloor-L2</td>\n",
       "      <td>139.340000</td>\n",
       "      <td>4.574382</td>\n",
       "      <td>6.560394</td>\n",
       "      <td>24.4</td>\n",
       "      <td>44.2</td>\n",
       "      <td>40.6</td>\n",
       "      <td>0.618</td>\n",
       "      <td>30.791</td>\n",
       "      <td>18461.0</td>\n",
       "      <td>360.0</td>\n",
       "      <td>25.860029</td>\n",
       "      <td>3.55</td>\n",
       "      <td>Machine_Failure</td>\n",
       "    </tr>\n",
       "    <tr>\n",
       "      <th>4</th>\n",
       "      <td>31-03-2022</td>\n",
       "      <td>Makino-L1-Unit1-2013</td>\n",
       "      <td>Shopfloor-L1</td>\n",
       "      <td>60.510000</td>\n",
       "      <td>6.893182</td>\n",
       "      <td>6.141238</td>\n",
       "      <td>4.1</td>\n",
       "      <td>47.3</td>\n",
       "      <td>31.4</td>\n",
       "      <td>0.983</td>\n",
       "      <td>25.516</td>\n",
       "      <td>26526.0</td>\n",
       "      <td>354.0</td>\n",
       "      <td>25.515874</td>\n",
       "      <td>3.55</td>\n",
       "      <td>Machine_Failure</td>\n",
       "    </tr>\n",
       "    <tr>\n",
       "      <th>...</th>\n",
       "      <td>...</td>\n",
       "      <td>...</td>\n",
       "      <td>...</td>\n",
       "      <td>...</td>\n",
       "      <td>...</td>\n",
       "      <td>...</td>\n",
       "      <td>...</td>\n",
       "      <td>...</td>\n",
       "      <td>...</td>\n",
       "      <td>...</td>\n",
       "      <td>...</td>\n",
       "      <td>...</td>\n",
       "      <td>...</td>\n",
       "      <td>...</td>\n",
       "      <td>...</td>\n",
       "      <td>...</td>\n",
       "    </tr>\n",
       "    <tr>\n",
       "      <th>2495</th>\n",
       "      <td>01-02-2022</td>\n",
       "      <td>Makino-L1-Unit1-2013</td>\n",
       "      <td>Shopfloor-L1</td>\n",
       "      <td>112.715506</td>\n",
       "      <td>5.220885</td>\n",
       "      <td>6.196610</td>\n",
       "      <td>22.3</td>\n",
       "      <td>48.8</td>\n",
       "      <td>37.2</td>\n",
       "      <td>0.910</td>\n",
       "      <td>20.282</td>\n",
       "      <td>20974.0</td>\n",
       "      <td>282.0</td>\n",
       "      <td>22.761610</td>\n",
       "      <td>2.72</td>\n",
       "      <td>No_Machine_Failure</td>\n",
       "    </tr>\n",
       "    <tr>\n",
       "      <th>2496</th>\n",
       "      <td>01-02-2022</td>\n",
       "      <td>Makino-L1-Unit1-2013</td>\n",
       "      <td>Shopfloor-L1</td>\n",
       "      <td>103.086653</td>\n",
       "      <td>5.211886</td>\n",
       "      <td>7.074653</td>\n",
       "      <td>11.9</td>\n",
       "      <td>48.3</td>\n",
       "      <td>31.5</td>\n",
       "      <td>1.106</td>\n",
       "      <td>34.708</td>\n",
       "      <td>20951.0</td>\n",
       "      <td>319.0</td>\n",
       "      <td>22.786597</td>\n",
       "      <td>2.94</td>\n",
       "      <td>No_Machine_Failure</td>\n",
       "    </tr>\n",
       "    <tr>\n",
       "      <th>2497</th>\n",
       "      <td>01-02-2022</td>\n",
       "      <td>Makino-L2-Unit1-2015</td>\n",
       "      <td>Shopfloor-L2</td>\n",
       "      <td>118.643165</td>\n",
       "      <td>5.212991</td>\n",
       "      <td>6.530049</td>\n",
       "      <td>4.5</td>\n",
       "      <td>49.9</td>\n",
       "      <td>36.2</td>\n",
       "      <td>0.288</td>\n",
       "      <td>16.828</td>\n",
       "      <td>20958.0</td>\n",
       "      <td>335.0</td>\n",
       "      <td>22.778987</td>\n",
       "      <td>NaN</td>\n",
       "      <td>No_Machine_Failure</td>\n",
       "    </tr>\n",
       "    <tr>\n",
       "      <th>2498</th>\n",
       "      <td>01-02-2022</td>\n",
       "      <td>Makino-L3-Unit1-2015</td>\n",
       "      <td>Shopfloor-L3</td>\n",
       "      <td>145.855859</td>\n",
       "      <td>5.207777</td>\n",
       "      <td>6.402655</td>\n",
       "      <td>12.2</td>\n",
       "      <td>44.5</td>\n",
       "      <td>32.1</td>\n",
       "      <td>0.995</td>\n",
       "      <td>26.498</td>\n",
       "      <td>20935.0</td>\n",
       "      <td>376.0</td>\n",
       "      <td>22.804012</td>\n",
       "      <td>2.79</td>\n",
       "      <td>No_Machine_Failure</td>\n",
       "    </tr>\n",
       "    <tr>\n",
       "      <th>2499</th>\n",
       "      <td>01-02-2022</td>\n",
       "      <td>Makino-L2-Unit1-2015</td>\n",
       "      <td>Shopfloor-L2</td>\n",
       "      <td>96.690000</td>\n",
       "      <td>5.936610</td>\n",
       "      <td>7.109355</td>\n",
       "      <td>29.8</td>\n",
       "      <td>53.2</td>\n",
       "      <td>36.2</td>\n",
       "      <td>0.840</td>\n",
       "      <td>31.580</td>\n",
       "      <td>23576.0</td>\n",
       "      <td>385.0</td>\n",
       "      <td>24.409551</td>\n",
       "      <td>3.55</td>\n",
       "      <td>Machine_Failure</td>\n",
       "    </tr>\n",
       "  </tbody>\n",
       "</table>\n",
       "<p>2500 rows × 16 columns</p>\n",
       "</div>"
      ],
      "text/plain": [
       "            Date            Machine_ID Assembly_Line_No  \\\n",
       "0     31-12-2021  Makino-L1-Unit1-2013     Shopfloor-L1   \n",
       "1     31-12-2021  Makino-L1-Unit1-2013     Shopfloor-L1   \n",
       "2     31-12-2021  Makino-L3-Unit1-2015     Shopfloor-L3   \n",
       "3     31-05-2022  Makino-L2-Unit1-2015     Shopfloor-L2   \n",
       "4     31-03-2022  Makino-L1-Unit1-2013     Shopfloor-L1   \n",
       "...          ...                   ...              ...   \n",
       "2495  01-02-2022  Makino-L1-Unit1-2013     Shopfloor-L1   \n",
       "2496  01-02-2022  Makino-L1-Unit1-2013     Shopfloor-L1   \n",
       "2497  01-02-2022  Makino-L2-Unit1-2015     Shopfloor-L2   \n",
       "2498  01-02-2022  Makino-L3-Unit1-2015     Shopfloor-L3   \n",
       "2499  01-02-2022  Makino-L2-Unit1-2015     Shopfloor-L2   \n",
       "\n",
       "      Hydraulic_Pressure(bar)  Coolant_Pressure(bar)  \\\n",
       "0                   71.040000               6.933725   \n",
       "1                  125.330000               4.936892   \n",
       "2                   71.120000               6.839413   \n",
       "3                  139.340000               4.574382   \n",
       "4                   60.510000               6.893182   \n",
       "...                       ...                    ...   \n",
       "2495               112.715506               5.220885   \n",
       "2496               103.086653               5.211886   \n",
       "2497               118.643165               5.212991   \n",
       "2498               145.855859               5.207777   \n",
       "2499                96.690000               5.936610   \n",
       "\n",
       "      Air_System_Pressure(bar)  Coolant_Temperature  \\\n",
       "0                     6.284965                 25.6   \n",
       "1                     6.196733                 35.3   \n",
       "2                     6.655448                 13.1   \n",
       "3                     6.560394                 24.4   \n",
       "4                     6.141238                  4.1   \n",
       "...                        ...                  ...   \n",
       "2495                  6.196610                 22.3   \n",
       "2496                  7.074653                 11.9   \n",
       "2497                  6.530049                  4.5   \n",
       "2498                  6.402655                 12.2   \n",
       "2499                  7.109355                 29.8   \n",
       "\n",
       "      Hydraulic_Oil_Temperature(?C)  Spindle_Bearing_Temperature(?C)  \\\n",
       "0                              46.0                             33.4   \n",
       "1                              47.4                             34.6   \n",
       "2                              40.7                             33.0   \n",
       "3                              44.2                             40.6   \n",
       "4                              47.3                             31.4   \n",
       "...                             ...                              ...   \n",
       "2495                           48.8                             37.2   \n",
       "2496                           48.3                             31.5   \n",
       "2497                           49.9                             36.2   \n",
       "2498                           44.5                             32.1   \n",
       "2499                           53.2                             36.2   \n",
       "\n",
       "      Spindle_Vibration(?m)  Tool_Vibration(?m)  Spindle_Speed(RPM)  \\\n",
       "0                     1.291              26.492             25892.0   \n",
       "1                     1.382              25.274             19856.0   \n",
       "2                     1.319              30.608             19851.0   \n",
       "3                     0.618              30.791             18461.0   \n",
       "4                     0.983              25.516             26526.0   \n",
       "...                     ...                 ...                 ...   \n",
       "2495                  0.910              20.282             20974.0   \n",
       "2496                  1.106              34.708             20951.0   \n",
       "2497                  0.288              16.828             20958.0   \n",
       "2498                  0.995              26.498             20935.0   \n",
       "2499                  0.840              31.580             23576.0   \n",
       "\n",
       "      Voltage(volts)  Torque(Nm)  Cutting(kN)            Downtime  \n",
       "0              335.0   24.055326         3.58     Machine_Failure  \n",
       "1              368.0   14.202890         2.68     Machine_Failure  \n",
       "2              325.0   24.049267         3.55     Machine_Failure  \n",
       "3              360.0   25.860029         3.55     Machine_Failure  \n",
       "4              354.0   25.515874         3.55     Machine_Failure  \n",
       "...              ...         ...          ...                 ...  \n",
       "2495           282.0   22.761610         2.72  No_Machine_Failure  \n",
       "2496           319.0   22.786597         2.94  No_Machine_Failure  \n",
       "2497           335.0   22.778987          NaN  No_Machine_Failure  \n",
       "2498           376.0   22.804012         2.79  No_Machine_Failure  \n",
       "2499           385.0   24.409551         3.55     Machine_Failure  \n",
       "\n",
       "[2500 rows x 16 columns]"
      ]
     },
     "execution_count": 153,
     "metadata": {},
     "output_type": "execute_result"
    }
   ],
   "source": [
    "df = pd.read_csv(\"Machine Downtime.csv\")\n",
    "df"
   ]
  },
  {
   "cell_type": "markdown",
   "metadata": {},
   "source": [
    "#### **Features**\n",
    "\n",
    "Features for prediction\n",
    "\n",
    "'Machine_ID','Spindle_Bearing_Temperature(?C)','Run_Time'"
   ]
  },
  {
   "cell_type": "code",
   "execution_count": 154,
   "metadata": {},
   "outputs": [],
   "source": [
    "# features\n",
    "columns = ['Machine_ID','Spindle_Bearing_Temperature(?C)']\n",
    "#,'Run_Time']\n",
    "x_f = df[columns].copy()\n",
    "y_ = df['Downtime']\n"
   ]
  },
  {
   "cell_type": "markdown",
   "metadata": {},
   "source": [
    "#### **Feature Engineering**"
   ]
  },
  {
   "cell_type": "markdown",
   "metadata": {},
   "source": [
    "**Missing Value Treatment**"
   ]
  },
  {
   "cell_type": "code",
   "execution_count": 132,
   "metadata": {},
   "outputs": [
    {
     "name": "stdout",
     "output_type": "stream",
     "text": [
      "Missing values in inputs features:\n",
      "Machine_ID                         0\n",
      "Spindle_Bearing_Temperature(?C)    7\n",
      "dtype: int64\n",
      "Missing values in output\n",
      "0\n"
     ]
    }
   ],
   "source": [
    "# check missing values\n",
    "print(f'Missing values in inputs features:\\n{x_f.isnull().sum()}')\n",
    "print(f'Missing values in output\\n{y_.isnull().sum()}')\n"
   ]
  },
  {
   "cell_type": "code",
   "execution_count": 145,
   "metadata": {},
   "outputs": [
    {
     "data": {
      "text/html": [
       "<div>\n",
       "<style scoped>\n",
       "    .dataframe tbody tr th:only-of-type {\n",
       "        vertical-align: middle;\n",
       "    }\n",
       "\n",
       "    .dataframe tbody tr th {\n",
       "        vertical-align: top;\n",
       "    }\n",
       "\n",
       "    .dataframe thead th {\n",
       "        text-align: right;\n",
       "    }\n",
       "</style>\n",
       "<table border=\"1\" class=\"dataframe\">\n",
       "  <thead>\n",
       "    <tr style=\"text-align: right;\">\n",
       "      <th></th>\n",
       "      <th>Machine_ID</th>\n",
       "      <th>Spindle_Bearing_Temperature(?C)</th>\n",
       "    </tr>\n",
       "  </thead>\n",
       "  <tbody>\n",
       "    <tr>\n",
       "      <th>0</th>\n",
       "      <td>Makino-L1-Unit1-2013</td>\n",
       "      <td>33.4</td>\n",
       "    </tr>\n",
       "    <tr>\n",
       "      <th>1</th>\n",
       "      <td>Makino-L1-Unit1-2013</td>\n",
       "      <td>34.6</td>\n",
       "    </tr>\n",
       "    <tr>\n",
       "      <th>2</th>\n",
       "      <td>Makino-L3-Unit1-2015</td>\n",
       "      <td>33.0</td>\n",
       "    </tr>\n",
       "    <tr>\n",
       "      <th>3</th>\n",
       "      <td>Makino-L2-Unit1-2015</td>\n",
       "      <td>40.6</td>\n",
       "    </tr>\n",
       "    <tr>\n",
       "      <th>4</th>\n",
       "      <td>Makino-L1-Unit1-2013</td>\n",
       "      <td>31.4</td>\n",
       "    </tr>\n",
       "    <tr>\n",
       "      <th>...</th>\n",
       "      <td>...</td>\n",
       "      <td>...</td>\n",
       "    </tr>\n",
       "    <tr>\n",
       "      <th>2495</th>\n",
       "      <td>Makino-L1-Unit1-2013</td>\n",
       "      <td>37.2</td>\n",
       "    </tr>\n",
       "    <tr>\n",
       "      <th>2496</th>\n",
       "      <td>Makino-L1-Unit1-2013</td>\n",
       "      <td>31.5</td>\n",
       "    </tr>\n",
       "    <tr>\n",
       "      <th>2497</th>\n",
       "      <td>Makino-L2-Unit1-2015</td>\n",
       "      <td>36.2</td>\n",
       "    </tr>\n",
       "    <tr>\n",
       "      <th>2498</th>\n",
       "      <td>Makino-L3-Unit1-2015</td>\n",
       "      <td>32.1</td>\n",
       "    </tr>\n",
       "    <tr>\n",
       "      <th>2499</th>\n",
       "      <td>Makino-L2-Unit1-2015</td>\n",
       "      <td>36.2</td>\n",
       "    </tr>\n",
       "  </tbody>\n",
       "</table>\n",
       "<p>2500 rows × 2 columns</p>\n",
       "</div>"
      ],
      "text/plain": [
       "                Machine_ID  Spindle_Bearing_Temperature(?C)\n",
       "0     Makino-L1-Unit1-2013                             33.4\n",
       "1     Makino-L1-Unit1-2013                             34.6\n",
       "2     Makino-L3-Unit1-2015                             33.0\n",
       "3     Makino-L2-Unit1-2015                             40.6\n",
       "4     Makino-L1-Unit1-2013                             31.4\n",
       "...                    ...                              ...\n",
       "2495  Makino-L1-Unit1-2013                             37.2\n",
       "2496  Makino-L1-Unit1-2013                             31.5\n",
       "2497  Makino-L2-Unit1-2015                             36.2\n",
       "2498  Makino-L3-Unit1-2015                             32.1\n",
       "2499  Makino-L2-Unit1-2015                             36.2\n",
       "\n",
       "[2500 rows x 2 columns]"
      ]
     },
     "execution_count": 145,
     "metadata": {},
     "output_type": "execute_result"
    }
   ],
   "source": [
    "x_f"
   ]
  },
  {
   "cell_type": "markdown",
   "metadata": {},
   "source": [
    "**Interpolate missing values**\n",
    "\n",
    "Interpolate mising value using polynomical interpolation with the help of neighbouring values"
   ]
  },
  {
   "cell_type": "code",
   "execution_count": 133,
   "metadata": {},
   "outputs": [
    {
     "name": "stdout",
     "output_type": "stream",
     "text": [
      "Current missing value count for input features\n",
      "Machine_ID                         0\n",
      "Spindle_Bearing_Temperature(?C)    0\n",
      "dtype: int64\n"
     ]
    }
   ],
   "source": [
    "# it searches both forward and baward direction\n",
    "x_f.interpolate(method=\"polynomial\", order = 2, limit_direction = \"both\",inplace=True) \n",
    "\n",
    "print(f'Current missing value count for input features\\n{x_f.isna().sum()}')"
   ]
  },
  {
   "cell_type": "markdown",
   "metadata": {},
   "source": [
    "**Label Encoding**"
   ]
  },
  {
   "cell_type": "code",
   "execution_count": 134,
   "metadata": {},
   "outputs": [
    {
     "name": "stdout",
     "output_type": "stream",
     "text": [
      "      Spindle_Bearing_Temperature(?C)  Machine_ID_encoded\n",
      "0                                33.4                   0\n",
      "1                                34.6                   0\n",
      "2                                33.0                   2\n",
      "3                                40.6                   1\n",
      "4                                31.4                   0\n",
      "...                               ...                 ...\n",
      "2495                             37.2                   0\n",
      "2496                             31.5                   0\n",
      "2497                             36.2                   1\n",
      "2498                             32.1                   2\n",
      "2499                             36.2                   1\n",
      "\n",
      "[2500 rows x 2 columns]\n"
     ]
    },
    {
     "data": {
      "text/plain": [
       "array([0, 0, 0, ..., 1, 1, 0])"
      ]
     },
     "execution_count": 134,
     "metadata": {},
     "output_type": "execute_result"
    }
   ],
   "source": [
    "label_encoder = LabelEncoder()\n",
    "\n",
    "x_ = x_f.copy()\n",
    "x_['Machine_ID_encoded'] = label_encoder.fit_transform(x_f['Machine_ID'])\n",
    "x_.drop('Machine_ID',axis=1,inplace=True)\n",
    "print(x_)\n",
    "\n",
    "# label encoding for y\n",
    "y_ = label_encoder.fit_transform(y_)\n",
    "y_"
   ]
  },
  {
   "cell_type": "markdown",
   "metadata": {},
   "source": [
    "**Normalize the data**"
   ]
  },
  {
   "cell_type": "code",
   "execution_count": 135,
   "metadata": {},
   "outputs": [
    {
     "data": {
      "text/plain": [
       "array([[0.40148699, 0.        ],\n",
       "       [0.44609665, 0.        ],\n",
       "       [0.3866171 , 1.        ],\n",
       "       ...,\n",
       "       [0.50557621, 0.5       ],\n",
       "       [0.35315985, 1.        ],\n",
       "       [0.50557621, 0.5       ]])"
      ]
     },
     "execution_count": 135,
     "metadata": {},
     "output_type": "execute_result"
    }
   ],
   "source": [
    "# convert to numpy array\n",
    "x = x_.to_numpy()\n",
    "y = y_\n",
    "#y = y_.to_numpy()\n",
    "\n",
    "# normalize the data using min-max scaler\n",
    "# as temperature value cant be negative and we are not considering negative value which happens in case of z score normalize\n",
    "scaler = MinMaxScaler()\n",
    "\n",
    "x_scaled = scaler.fit_transform(x_)\n",
    "x_scaled\n"
   ]
  },
  {
   "cell_type": "markdown",
   "metadata": {},
   "source": [
    "#### **Dataset**"
   ]
  },
  {
   "cell_type": "code",
   "execution_count": 136,
   "metadata": {},
   "outputs": [
    {
     "name": "stdout",
     "output_type": "stream",
     "text": [
      "Train size - ((2125, 2), (2125,))\n",
      "Test size - ((375, 2), (375,))\n"
     ]
    },
    {
     "data": {
      "text/plain": [
       "array([1, 1, 1, 0, 0, 0, 1, 0, 0, 0, 1, 0, 1, 0, 0, 1, 0, 1, 1, 1, 0, 0,\n",
       "       1, 0, 0, 1, 1, 1, 1, 1, 0, 0, 1, 0, 1, 1, 0, 0, 0, 1, 1, 1, 0, 1,\n",
       "       0, 1, 1, 1, 1, 0, 0, 1, 1, 0, 0, 1, 1, 1, 1, 1, 1, 0, 1, 0, 0, 0,\n",
       "       1, 1, 0, 1, 1, 0, 0, 1, 1, 1, 1, 1, 1, 1, 1, 1, 1, 1, 1, 1, 1, 0,\n",
       "       1, 0, 0, 0, 0, 0, 0, 0, 0, 1, 0, 0, 1, 0, 0, 0, 1, 1, 0, 1, 0, 1,\n",
       "       0, 0, 1, 0, 1, 0, 1, 0, 1, 0, 0, 0, 0, 1, 0, 0, 1, 0, 1, 0, 1, 0,\n",
       "       0, 0, 0, 0, 0, 1, 0, 1, 1, 0, 1, 0, 0, 1, 0, 0, 0, 0, 1, 0, 1, 0,\n",
       "       1, 0, 1, 0, 0, 1, 0, 0, 1, 0, 1, 0, 1, 1, 0, 1, 0, 0, 1, 1, 0, 1,\n",
       "       1, 0, 1, 1, 0, 1, 0, 0, 1, 1, 0, 0, 0, 1, 0, 0, 0, 1, 0, 1, 0, 1,\n",
       "       1, 1, 0, 1, 1, 1, 1, 1, 1, 1, 1, 0, 0, 1, 1, 0, 1, 1, 1, 0, 1, 0,\n",
       "       1, 1, 1, 0, 0, 0, 1, 1, 0, 1, 0, 1, 1, 1, 0, 0, 0, 1, 0, 1, 1, 0,\n",
       "       0, 1, 1, 1, 1, 0, 0, 0, 1, 1, 0, 0, 1, 1, 1, 1, 1, 1, 1, 0, 1, 0,\n",
       "       1, 1, 0, 1, 0, 0, 1, 1, 1, 1, 1, 0, 0, 0, 0, 0, 1, 1, 1, 0, 1, 0,\n",
       "       1, 1, 1, 0, 1, 1, 0, 0, 1, 0, 0, 1, 1, 0, 0, 1, 0, 0, 0, 1, 1, 0,\n",
       "       1, 1, 1, 1, 1, 0, 1, 1, 0, 1, 1, 1, 1, 1, 0, 1, 0, 1, 1, 1, 0, 1,\n",
       "       0, 1, 1, 1, 0, 0, 1, 0, 0, 0, 1, 1, 0, 1, 0, 0, 1, 1, 0, 1, 1, 1,\n",
       "       0, 1, 1, 1, 0, 1, 0, 1, 0, 1, 0, 0, 0, 0, 0, 0, 0, 1, 0, 0, 1, 0,\n",
       "       1])"
      ]
     },
     "execution_count": 136,
     "metadata": {},
     "output_type": "execute_result"
    }
   ],
   "source": [
    "# train-test split\n",
    "x_train, x_test, y_train, y_test = train_test_split(x_scaled, y, test_size=0.15, random_state=42, shuffle=True)\n",
    "\n",
    "print(f'Train size - {x_train.shape, y_train.shape}')\n",
    "print(f'Test size - {x_test.shape, y_test.shape}')\n",
    "\n",
    "y_test"
   ]
  },
  {
   "cell_type": "markdown",
   "metadata": {},
   "source": [
    "#### **Model**\n",
    "\n",
    "Define the decisiontree classifier"
   ]
  },
  {
   "cell_type": "code",
   "execution_count": 137,
   "metadata": {},
   "outputs": [],
   "source": [
    "# initialize the Decision tree classifier with hyperparameters\n",
    "clf = DecisionTreeClassifier(\n",
    "    criterion=\"gini\",\n",
    "    max_depth=12,\n",
    "    min_samples_split=4,\n",
    "    min_samples_leaf=2,\n",
    "    random_state=42\n",
    ")"
   ]
  },
  {
   "cell_type": "code",
   "execution_count": null,
   "metadata": {},
   "outputs": [],
   "source": [
    "# training\n",
    "clf.fit(x_train, y_train)\n",
    "\n",
    "# predictions with test data\n",
    "y_pred = clf.predict(x_test)"
   ]
  },
  {
   "cell_type": "markdown",
   "metadata": {},
   "source": [
    "Define logistic regression"
   ]
  },
  {
   "cell_type": "code",
   "execution_count": 139,
   "metadata": {},
   "outputs": [],
   "source": [
    "model = LogisticRegression(random_state=42)\n",
    "model.fit(x_train, y_train)\n",
    "\n",
    "y_pred = model.predict(x_test)"
   ]
  },
  {
   "cell_type": "markdown",
   "metadata": {},
   "source": [
    "#### **Evaluation**\n"
   ]
  },
  {
   "cell_type": "markdown",
   "metadata": {},
   "source": [
    "1. Performance for Decision Tree Classifier"
   ]
  },
  {
   "cell_type": "code",
   "execution_count": 105,
   "metadata": {},
   "outputs": [
    {
     "name": "stdout",
     "output_type": "stream",
     "text": [
      "Accuracy: 0.472\n",
      "Confusion Matrix:\n",
      "[[102  73]\n",
      " [125  75]]\n",
      "Classification Report:\n",
      "              precision    recall  f1-score   support\n",
      "\n",
      "           0       0.45      0.58      0.51       175\n",
      "           1       0.51      0.38      0.43       200\n",
      "\n",
      "    accuracy                           0.47       375\n",
      "   macro avg       0.48      0.48      0.47       375\n",
      "weighted avg       0.48      0.47      0.47       375\n",
      "\n"
     ]
    }
   ],
   "source": [
    "# accuracy\n",
    "accuracy = accuracy_score(y_test, y_pred)\n",
    "print(f'Accuracy: {accuracy}')\n",
    "\n",
    "# confusion matrix\n",
    "conf_matrix = confusion_matrix(y_test, y_pred)\n",
    "print(f'Confusion Matrix:\\n{conf_matrix}')\n",
    "\n",
    "# classification report\n",
    "class_report = classification_report(y_test, y_pred)\n",
    "print(f'Classification Report:\\n{class_report}')"
   ]
  },
  {
   "cell_type": "markdown",
   "metadata": {},
   "source": [
    "2. Logistic regression prediction"
   ]
  },
  {
   "cell_type": "code",
   "execution_count": 142,
   "metadata": {},
   "outputs": [
    {
     "name": "stdout",
     "output_type": "stream",
     "text": [
      "Accuracy: 0.4666666666666667\n",
      "Confusion Matrix:\n",
      "[[121  54]\n",
      " [146  54]]\n",
      "Classification Report:\n",
      "              precision    recall  f1-score   support\n",
      "\n",
      "           0       0.45      0.69      0.55       175\n",
      "           1       0.50      0.27      0.35       200\n",
      "\n",
      "    accuracy                           0.47       375\n",
      "   macro avg       0.48      0.48      0.45       375\n",
      "weighted avg       0.48      0.47      0.44       375\n",
      "\n"
     ]
    }
   ],
   "source": [
    "# accuracy\n",
    "accuracy = accuracy_score(y_test, y_pred)\n",
    "print(f'Accuracy: {accuracy}')\n",
    "\n",
    "# confusion matrix\n",
    "conf_matrix = confusion_matrix(y_test, y_pred)\n",
    "print(f'Confusion Matrix:\\n{conf_matrix}')\n",
    "\n",
    "# classification report\n",
    "class_report = classification_report(y_test, y_pred)\n",
    "print(f'Classification Report:\\n{class_report}')"
   ]
  },
  {
   "cell_type": "code",
   "execution_count": 144,
   "metadata": {},
   "outputs": [
    {
     "data": {
      "text/plain": [
       "array([33.4,  0. ])"
      ]
     },
     "execution_count": 144,
     "metadata": {},
     "output_type": "execute_result"
    }
   ],
   "source": [
    "x[0]"
   ]
  },
  {
   "cell_type": "markdown",
   "metadata": {},
   "source": [
    "## **Synthetic Data Geneeneration**"
   ]
  },
  {
   "cell_type": "code",
   "execution_count": 190,
   "metadata": {},
   "outputs": [],
   "source": [
    "import numpy\n",
    "import os"
   ]
  },
  {
   "cell_type": "code",
   "execution_count": 191,
   "metadata": {},
   "outputs": [
    {
     "data": {
      "text/plain": [
       "Index(['Date', 'Machine_ID', 'Assembly_Line_No', 'Hydraulic_Pressure(bar)',\n",
       "       'Coolant_Pressure(bar)', 'Air_System_Pressure(bar)',\n",
       "       'Coolant_Temperature', 'Hydraulic_Oil_Temperature(?C)',\n",
       "       'Spindle_Bearing_Temperature(?C)', 'Spindle_Vibration(?m)',\n",
       "       'Tool_Vibration(?m)', 'Spindle_Speed(RPM)', 'Voltage(volts)',\n",
       "       'Torque(Nm)', 'Cutting(kN)', 'Downtime'],\n",
       "      dtype='object')"
      ]
     },
     "execution_count": 191,
     "metadata": {},
     "output_type": "execute_result"
    }
   ],
   "source": [
    "# load the dataframe\n",
    "df = pd.read_csv(\"Machine Downtime.csv\")\n",
    "df.columns"
   ]
  },
  {
   "cell_type": "code",
   "execution_count": 192,
   "metadata": {},
   "outputs": [
    {
     "data": {
      "text/plain": [
       "Index(['Date', 'Machine_ID', 'Assembly_Line_No', 'Hydraulic_Pressure(bar)',\n",
       "       'Coolant_Pressure(bar)', 'Air_System_Pressure(bar)',\n",
       "       'Coolant_Temperature', 'Hydraulic_Oil_Temperature(?C)',\n",
       "       'Temperature(C)', 'Spindle_Vibration(?m)', 'Tool_Vibration(?m)',\n",
       "       'Spindle_Speed(RPM)', 'Voltage(volts)', 'Torque(Nm)', 'Cutting(kN)',\n",
       "       'Downtime'],\n",
       "      dtype='object')"
      ]
     },
     "execution_count": 192,
     "metadata": {},
     "output_type": "execute_result"
    }
   ],
   "source": [
    "# rename columns\n",
    "df.rename(columns=\n",
    "                 {'Machine ID': 'Machine_ID', \n",
    "                  'Spindle_Bearing_Temperature(?C)': 'Temperature(C)', \n",
    "                  'Downtime': 'Downtime'\n",
    "                  }, inplace=True)\n",
    "df.columns"
   ]
  },
  {
   "cell_type": "code",
   "execution_count": 193,
   "metadata": {},
   "outputs": [
    {
     "data": {
      "text/plain": [
       "150.7136574532736"
      ]
     },
     "execution_count": 193,
     "metadata": {},
     "output_type": "execute_result"
    }
   ],
   "source": [
    "import pandas as pd\n",
    "import numpy as np\n",
    "\n",
    "# Set random seed for reproducibility\n",
    "np.random.seed(42)\n",
    "\n",
    "# Add synthetic Run_Time\n",
    "def generate_run_time(row):\n",
    "    # Base run time depending on downtime\n",
    "    base_run_time = np.random.normal(400, 100) if row['Downtime'] == 'No' else np.random.normal(100, 5)\n",
    "    \n",
    "    # Adjust run time based on temperature\n",
    "    temp_adjustment = (100 - row['Temperature(C)']) * 0.5  # Higher temp -> lower run time\n",
    "    return max(base_run_time + temp_adjustment, 0)  # Ensure no negative run time\n",
    "\n",
    "# apply the function to generate custom runtime command\n",
    "df['Run_Time'] = df.apply(generate_run_time, axis=1)\n",
    "df['Run_Time'].max()"
   ]
  },
  {
   "cell_type": "code",
   "execution_count": 194,
   "metadata": {},
   "outputs": [],
   "source": [
    "# synthetic data\n",
    "df.to_csv(\"Machine_Downtime_Synthetic.csv\", index=False)"
   ]
  },
  {
   "cell_type": "code",
   "execution_count": 195,
   "metadata": {},
   "outputs": [
    {
     "data": {
      "text/html": [
       "<div>\n",
       "<style scoped>\n",
       "    .dataframe tbody tr th:only-of-type {\n",
       "        vertical-align: middle;\n",
       "    }\n",
       "\n",
       "    .dataframe tbody tr th {\n",
       "        vertical-align: top;\n",
       "    }\n",
       "\n",
       "    .dataframe thead th {\n",
       "        text-align: right;\n",
       "    }\n",
       "</style>\n",
       "<table border=\"1\" class=\"dataframe\">\n",
       "  <thead>\n",
       "    <tr style=\"text-align: right;\">\n",
       "      <th></th>\n",
       "      <th>Date</th>\n",
       "      <th>Machine_ID</th>\n",
       "      <th>Assembly_Line_No</th>\n",
       "      <th>Hydraulic_Pressure(bar)</th>\n",
       "      <th>Coolant_Pressure(bar)</th>\n",
       "      <th>Air_System_Pressure(bar)</th>\n",
       "      <th>Coolant_Temperature</th>\n",
       "      <th>Hydraulic_Oil_Temperature(?C)</th>\n",
       "      <th>Temperature(C)</th>\n",
       "      <th>Spindle_Vibration(?m)</th>\n",
       "      <th>Tool_Vibration(?m)</th>\n",
       "      <th>Spindle_Speed(RPM)</th>\n",
       "      <th>Voltage(volts)</th>\n",
       "      <th>Torque(Nm)</th>\n",
       "      <th>Cutting(kN)</th>\n",
       "      <th>Downtime</th>\n",
       "      <th>Run_Time</th>\n",
       "    </tr>\n",
       "  </thead>\n",
       "  <tbody>\n",
       "    <tr>\n",
       "      <th>0</th>\n",
       "      <td>31-12-2021</td>\n",
       "      <td>Makino-L1-Unit1-2013</td>\n",
       "      <td>Shopfloor-L1</td>\n",
       "      <td>71.04</td>\n",
       "      <td>6.933725</td>\n",
       "      <td>6.284965</td>\n",
       "      <td>25.6</td>\n",
       "      <td>46.0</td>\n",
       "      <td>33.4</td>\n",
       "      <td>1.291</td>\n",
       "      <td>26.492</td>\n",
       "      <td>25892.0</td>\n",
       "      <td>335.0</td>\n",
       "      <td>24.055326</td>\n",
       "      <td>3.58</td>\n",
       "      <td>Machine_Failure</td>\n",
       "      <td>135.783571</td>\n",
       "    </tr>\n",
       "    <tr>\n",
       "      <th>1</th>\n",
       "      <td>31-12-2021</td>\n",
       "      <td>Makino-L1-Unit1-2013</td>\n",
       "      <td>Shopfloor-L1</td>\n",
       "      <td>125.33</td>\n",
       "      <td>4.936892</td>\n",
       "      <td>6.196733</td>\n",
       "      <td>35.3</td>\n",
       "      <td>47.4</td>\n",
       "      <td>34.6</td>\n",
       "      <td>1.382</td>\n",
       "      <td>25.274</td>\n",
       "      <td>19856.0</td>\n",
       "      <td>368.0</td>\n",
       "      <td>14.202890</td>\n",
       "      <td>2.68</td>\n",
       "      <td>Machine_Failure</td>\n",
       "      <td>132.008678</td>\n",
       "    </tr>\n",
       "    <tr>\n",
       "      <th>2</th>\n",
       "      <td>31-12-2021</td>\n",
       "      <td>Makino-L3-Unit1-2015</td>\n",
       "      <td>Shopfloor-L3</td>\n",
       "      <td>71.12</td>\n",
       "      <td>6.839413</td>\n",
       "      <td>6.655448</td>\n",
       "      <td>13.1</td>\n",
       "      <td>40.7</td>\n",
       "      <td>33.0</td>\n",
       "      <td>1.319</td>\n",
       "      <td>30.608</td>\n",
       "      <td>19851.0</td>\n",
       "      <td>325.0</td>\n",
       "      <td>24.049267</td>\n",
       "      <td>3.55</td>\n",
       "      <td>Machine_Failure</td>\n",
       "      <td>136.738443</td>\n",
       "    </tr>\n",
       "    <tr>\n",
       "      <th>3</th>\n",
       "      <td>31-05-2022</td>\n",
       "      <td>Makino-L2-Unit1-2015</td>\n",
       "      <td>Shopfloor-L2</td>\n",
       "      <td>139.34</td>\n",
       "      <td>4.574382</td>\n",
       "      <td>6.560394</td>\n",
       "      <td>24.4</td>\n",
       "      <td>44.2</td>\n",
       "      <td>40.6</td>\n",
       "      <td>0.618</td>\n",
       "      <td>30.791</td>\n",
       "      <td>18461.0</td>\n",
       "      <td>360.0</td>\n",
       "      <td>25.860029</td>\n",
       "      <td>3.55</td>\n",
       "      <td>Machine_Failure</td>\n",
       "      <td>137.315149</td>\n",
       "    </tr>\n",
       "    <tr>\n",
       "      <th>4</th>\n",
       "      <td>31-03-2022</td>\n",
       "      <td>Makino-L1-Unit1-2013</td>\n",
       "      <td>Shopfloor-L1</td>\n",
       "      <td>60.51</td>\n",
       "      <td>6.893182</td>\n",
       "      <td>6.141238</td>\n",
       "      <td>4.1</td>\n",
       "      <td>47.3</td>\n",
       "      <td>31.4</td>\n",
       "      <td>0.983</td>\n",
       "      <td>25.516</td>\n",
       "      <td>26526.0</td>\n",
       "      <td>354.0</td>\n",
       "      <td>25.515874</td>\n",
       "      <td>3.55</td>\n",
       "      <td>Machine_Failure</td>\n",
       "      <td>133.129233</td>\n",
       "    </tr>\n",
       "  </tbody>\n",
       "</table>\n",
       "</div>"
      ],
      "text/plain": [
       "         Date            Machine_ID Assembly_Line_No  Hydraulic_Pressure(bar)  \\\n",
       "0  31-12-2021  Makino-L1-Unit1-2013     Shopfloor-L1                    71.04   \n",
       "1  31-12-2021  Makino-L1-Unit1-2013     Shopfloor-L1                   125.33   \n",
       "2  31-12-2021  Makino-L3-Unit1-2015     Shopfloor-L3                    71.12   \n",
       "3  31-05-2022  Makino-L2-Unit1-2015     Shopfloor-L2                   139.34   \n",
       "4  31-03-2022  Makino-L1-Unit1-2013     Shopfloor-L1                    60.51   \n",
       "\n",
       "   Coolant_Pressure(bar)  Air_System_Pressure(bar)  Coolant_Temperature  \\\n",
       "0               6.933725                  6.284965                 25.6   \n",
       "1               4.936892                  6.196733                 35.3   \n",
       "2               6.839413                  6.655448                 13.1   \n",
       "3               4.574382                  6.560394                 24.4   \n",
       "4               6.893182                  6.141238                  4.1   \n",
       "\n",
       "   Hydraulic_Oil_Temperature(?C)  Temperature(C)  Spindle_Vibration(?m)  \\\n",
       "0                           46.0            33.4                  1.291   \n",
       "1                           47.4            34.6                  1.382   \n",
       "2                           40.7            33.0                  1.319   \n",
       "3                           44.2            40.6                  0.618   \n",
       "4                           47.3            31.4                  0.983   \n",
       "\n",
       "   Tool_Vibration(?m)  Spindle_Speed(RPM)  Voltage(volts)  Torque(Nm)  \\\n",
       "0              26.492             25892.0           335.0   24.055326   \n",
       "1              25.274             19856.0           368.0   14.202890   \n",
       "2              30.608             19851.0           325.0   24.049267   \n",
       "3              30.791             18461.0           360.0   25.860029   \n",
       "4              25.516             26526.0           354.0   25.515874   \n",
       "\n",
       "   Cutting(kN)         Downtime    Run_Time  \n",
       "0         3.58  Machine_Failure  135.783571  \n",
       "1         2.68  Machine_Failure  132.008678  \n",
       "2         3.55  Machine_Failure  136.738443  \n",
       "3         3.55  Machine_Failure  137.315149  \n",
       "4         3.55  Machine_Failure  133.129233  "
      ]
     },
     "execution_count": 195,
     "metadata": {},
     "output_type": "execute_result"
    }
   ],
   "source": [
    "# check synthetic data\n",
    "df = pd.read_csv(\"Machine_Downtime_Synthetic.csv\")\n",
    "df.head()"
   ]
  },
  {
   "cell_type": "code",
   "execution_count": null,
   "metadata": {},
   "outputs": [],
   "source": []
  },
  {
   "cell_type": "code",
   "execution_count": null,
   "metadata": {},
   "outputs": [],
   "source": []
  }
 ],
 "metadata": {
  "kernelspec": {
   "display_name": "miko_dev",
   "language": "python",
   "name": "python3"
  },
  "language_info": {
   "codemirror_mode": {
    "name": "ipython",
    "version": 3
   },
   "file_extension": ".py",
   "mimetype": "text/x-python",
   "name": "python",
   "nbconvert_exporter": "python",
   "pygments_lexer": "ipython3",
   "version": "3.8.19"
  }
 },
 "nbformat": 4,
 "nbformat_minor": 2
}
